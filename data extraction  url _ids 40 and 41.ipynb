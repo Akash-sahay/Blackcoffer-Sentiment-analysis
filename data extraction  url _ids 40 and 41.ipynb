{
 "cells": [
  {
   "cell_type": "code",
   "execution_count": 1,
   "id": "798d2489",
   "metadata": {},
   "outputs": [],
   "source": [
    "import pandas as pd\n",
    "import numpy as np\n",
    "import requests\n",
    "from bs4 import BeautifulSoup"
   ]
  },
  {
   "cell_type": "code",
   "execution_count": 2,
   "id": "5ae8e75a",
   "metadata": {},
   "outputs": [],
   "source": [
    "url_40='https://insights.blackcoffer.com/will-machine-replace-the-human-in-the-future-of-work/'\n",
    "url_41='https://insights.blackcoffer.com/will-ai-replace-us-or-work-with-us/'"
   ]
  },
  {
   "cell_type": "code",
   "execution_count": 3,
   "id": "b107748a",
   "metadata": {},
   "outputs": [],
   "source": [
    "page_40 = requests.get(url_40)\n",
    "page_41 = requests.get(url_41)"
   ]
  },
  {
   "cell_type": "code",
   "execution_count": 4,
   "id": "81817455",
   "metadata": {},
   "outputs": [],
   "source": [
    "soup_40 = BeautifulSoup(page_40.content, 'html.parser')\n",
    "soup_41 = BeautifulSoup(page_41.content, 'html.parser')"
   ]
  },
  {
   "cell_type": "code",
   "execution_count": 5,
   "id": "83a68eae",
   "metadata": {},
   "outputs": [],
   "source": [
    "heading_40 = soup_40.find(attrs={'class':'entry-title'}).text\n",
    "heading_41 = soup_41.find(attrs={'class':'entry-title'}).text"
   ]
  },
  {
   "cell_type": "code",
   "execution_count": 8,
   "id": "513adb1a",
   "metadata": {},
   "outputs": [],
   "source": [
    "article_40 =soup_40.findAll(attrs={'class':'td-post-content tagdiv-type'})\n",
    "article_41 =soup_41.findAll(attrs={'class':'td-post-content tagdiv-type'})"
   ]
  },
  {
   "cell_type": "code",
   "execution_count": 9,
   "id": "92a4affa",
   "metadata": {},
   "outputs": [],
   "source": [
    "article_text_40 = article_40[0].text.replace('\\n', \" \")\n",
    "article_text_41 = article_41[0].text.replace('\\n', \" \")"
   ]
  },
  {
   "cell_type": "code",
   "execution_count": 12,
   "id": "da4b0822",
   "metadata": {},
   "outputs": [],
   "source": [
    "data_40 = [(url_40, heading_40, article_text_40)]\n",
    "data_41 = [(url_41, heading_41, article_text_41)]"
   ]
  },
  {
   "cell_type": "code",
   "execution_count": 13,
   "id": "27fc5db7",
   "metadata": {},
   "outputs": [],
   "source": [
    "df_40 = pd.DataFrame(data_40, columns=['Url', 'Heading', 'Text'])\n",
    "df_41 = pd.DataFrame(data_41, columns=['Url', 'Heading', 'Text'])"
   ]
  },
  {
   "cell_type": "code",
   "execution_count": 15,
   "id": "fcf7df74",
   "metadata": {},
   "outputs": [],
   "source": [
    "path = 'C:\\\\Users\\\\Akash Sahay\\\\Downloads\\\\40.txt'\n",
    "\n",
    "#export DataFrame to text file\n",
    "with open(path, 'a') as f:\n",
    "    df_string_40 = df_40.to_string(header=False, index=False)\n",
    "    f.write(df_string_40)\n",
    "    \n",
    "path = 'C:\\\\Users\\\\Akash Sahay\\\\Downloads\\\\41.txt'\n",
    "\n",
    "#export DataFrame to text file\n",
    "with open(path, 'a') as f:\n",
    "    df_string_41 = df_41.to_string(header=False, index=False)\n",
    "    f.write(df_string_41)    "
   ]
  },
  {
   "cell_type": "code",
   "execution_count": 16,
   "id": "6888ab2f",
   "metadata": {},
   "outputs": [],
   "source": [
    "path_40 = path_40 = 'C:\\\\Users\\\\Akash Sahay\\\\Downloads\\\\url_40.csv'\n",
    "df_40.to_csv('url_40.csv')\n",
    "path_41 = path_41 = 'C:\\\\Users\\\\Akash Sahay\\\\Downloads\\\\url_41.csv'\n",
    "df_41.to_csv('url_41.csv')"
   ]
  },
  {
   "cell_type": "code",
   "execution_count": null,
   "id": "df2e1323",
   "metadata": {},
   "outputs": [],
   "source": []
  }
 ],
 "metadata": {
  "kernelspec": {
   "display_name": "Python 3 (ipykernel)",
   "language": "python",
   "name": "python3"
  },
  "language_info": {
   "codemirror_mode": {
    "name": "ipython",
    "version": 3
   },
   "file_extension": ".py",
   "mimetype": "text/x-python",
   "name": "python",
   "nbconvert_exporter": "python",
   "pygments_lexer": "ipython3",
   "version": "3.9.12"
  }
 },
 "nbformat": 4,
 "nbformat_minor": 5
}
